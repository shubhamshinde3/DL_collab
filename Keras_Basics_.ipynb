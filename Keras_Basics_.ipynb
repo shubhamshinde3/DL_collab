{
  "nbformat": 4,
  "nbformat_minor": 0,
  "metadata": {
    "colab": {
      "name": "Keras Basics .ipynb",
      "provenance": [],
      "collapsed_sections": [],
      "include_colab_link": true
    },
    "kernelspec": {
      "name": "python3",
      "display_name": "Python 3"
    },
    "language_info": {
      "name": "python"
    }
  },
  "cells": [
    {
      "cell_type": "markdown",
      "metadata": {
        "id": "view-in-github",
        "colab_type": "text"
      },
      "source": [
        "<a href=\"https://colab.research.google.com/github/shubhamshinde3/DL_collab/blob/main/Keras_Basics_.ipynb\" target=\"_parent\"><img src=\"https://colab.research.google.com/assets/colab-badge.svg\" alt=\"Open In Colab\"/></a>"
      ]
    },
    {
      "cell_type": "code",
      "execution_count": null,
      "metadata": {
        "id": "tMMTZPPssQYh"
      },
      "outputs": [],
      "source": [
        "## Installing Keras\n",
        "!pip install -q keras"
      ]
    },
    {
      "cell_type": "code",
      "source": [
        "import keras\n",
        "from keras.models import Sequential\n",
        "from keras.layers import Dense\n",
        "from keras.layers import LeakyReLU,PReLU,ELU\n",
        "from tensorflow.keras.utils import plot_model"
      ],
      "metadata": {
        "id": "01c_8X3Wsc1o"
      },
      "execution_count": null,
      "outputs": []
    },
    {
      "cell_type": "code",
      "source": [
        "### Iniliatilizing the ANN\n",
        "\n",
        "model = Sequential()\n",
        "### Here Each layer receives neurons from the previous layers, therefore Densly connected AKA Fully connected Layers.\n",
        "### Here we have 8 input parameters. 16 depecits the number of neurons in 1st hidden layer.\n",
        "### Here the output dimension is 16. \n",
        "### follow the link to understand the calculation of trainable params: https://towardsdatascience.com/number-of-parameters-in-a-feed-forward-neural-network-4e4e33a53655\n",
        "### The None is the batch Size.\n",
        "\n",
        "model.add(Dense(16,input_shape = (8,))) \n",
        "model.summary() ### Returns the output struture of the model.\n",
        "plot_model(model,to_file='model_plot.png',show_shapes=True,show_layer_names=True)"
      ],
      "metadata": {
        "id": "RVHy_LSZvpvW",
        "colab": {
          "base_uri": "https://localhost:8080/",
          "height": 392
        },
        "outputId": "70907c28-1fc8-4b3f-9867-02bdca4429e4"
      },
      "execution_count": null,
      "outputs": [
        {
          "output_type": "stream",
          "name": "stdout",
          "text": [
            "Model: \"sequential\"\n",
            "_________________________________________________________________\n",
            " Layer (type)                Output Shape              Param #   \n",
            "=================================================================\n",
            " dense (Dense)               (None, 16)                144       \n",
            "                                                                 \n",
            "=================================================================\n",
            "Total params: 144\n",
            "Trainable params: 144\n",
            "Non-trainable params: 0\n",
            "_________________________________________________________________\n"
          ]
        },
        {
          "output_type": "execute_result",
          "data": {
            "text/plain": [
              "<IPython.core.display.Image object>"
            ],
            "image/png": "[encoded data removed]"
          },
          "metadata": {},
          "execution_count": 4
        }
      ]
    },
    {
      "cell_type": "code",
      "source": [
        "model.get_config() ## Displays the Model Details."
      ],
      "metadata": {
        "colab": {
          "base_uri": "https://localhost:8080/"
        },
        "id": "saTkrKJBpJil",
        "outputId": "a0a76790-f779-4308-9fc6-d2fdaa8ba73d"
      },
      "execution_count": null,
      "outputs": [
        {
          "output_type": "execute_result",
          "data": {
            "text/plain": [
              "{'layers': [{'class_name': 'InputLayer',\n",
              "   'config': {'batch_input_shape': (None, 8),\n",
              "    'dtype': 'float32',\n",
              "    'name': 'dense_input',\n",
              "    'ragged': False,\n",
              "    'sparse': False}},\n",
              "  {'class_name': 'Dense',\n",
              "   'config': {'activation': 'linear',\n",
              "    'activity_regularizer': None,\n",
              "    'batch_input_shape': (None, 8),\n",
              "    'bias_constraint': None,\n",
              "    'bias_initializer': {'class_name': 'Zeros', 'config': {}},\n",
              "    'bias_regularizer': None,\n",
              "    'dtype': 'float32',\n",
              "    'kernel_constraint': None,\n",
              "    'kernel_initializer': {'class_name': 'GlorotUniform',\n",
              "     'config': {'seed': None}},\n",
              "    'kernel_regularizer': None,\n",
              "    'name': 'dense',\n",
              "    'trainable': True,\n",
              "    'units': 16,\n",
              "    'use_bias': True}}],\n",
              " 'name': 'sequential'}"
            ]
          },
          "metadata": {},
          "execution_count": 5
        }
      ]
    },
    {
      "cell_type": "code",
      "source": [
        "model.get_weights() ### Display the model weights."
      ],
      "metadata": {
        "colab": {
          "base_uri": "https://localhost:8080/"
        },
        "id": "OMyu01lmq5Pj",
        "outputId": "9c530d63-ae5f-474b-bbee-0523bd32961d"
      },
      "execution_count": null,
      "outputs": [
        {
          "output_type": "execute_result",
          "data": {
            "text/plain": [
              "[array([[ 0.4970019 ,  0.19362545, -0.21020496, -0.45363748, -0.31251764,\n",
              "          0.4365834 ,  0.3560592 ,  0.05934918, -0.04074311,  0.03032827,\n",
              "          0.06785488,  0.4369688 , -0.05150831, -0.4368837 , -0.14317966,\n",
              "          0.17994678],\n",
              "        [-0.34843767, -0.2731037 , -0.45630467,  0.31902158, -0.35049653,\n",
              "         -0.22550595,  0.26742744,  0.28627574, -0.35261858, -0.37843072,\n",
              "          0.17874694,  0.35733795, -0.42948437, -0.36715496, -0.2643032 ,\n",
              "         -0.01644111],\n",
              "        [ 0.31013477, -0.33200264,  0.49211824, -0.24104345,  0.49093783,\n",
              "         -0.24109328,  0.3653474 , -0.0194155 , -0.22394836,  0.02786088,\n",
              "         -0.43226492,  0.26845062,  0.47753167, -0.38500702,  0.0045085 ,\n",
              "          0.29392207],\n",
              "        [ 0.36133087,  0.36864412, -0.0480454 ,  0.3921032 ,  0.03556538,\n",
              "         -0.4890808 , -0.01856434, -0.01722562, -0.06558001,  0.18023503,\n",
              "          0.09465921, -0.10376275,  0.18090582,  0.2617947 ,  0.16364479,\n",
              "          0.20136952],\n",
              "        [-0.26921248, -0.31053615, -0.12827325,  0.34542072, -0.1970669 ,\n",
              "          0.47151303,  0.35164952,  0.03564382,  0.48616922, -0.24627459,\n",
              "          0.48335683, -0.01137018,  0.17062545, -0.13732898, -0.3382554 ,\n",
              "         -0.06871808],\n",
              "        [ 0.38608027, -0.35183668,  0.25659037, -0.48604035,  0.00773656,\n",
              "         -0.2599063 , -0.02021146,  0.24251127, -0.29830205, -0.25420725,\n",
              "         -0.25817704,  0.2494942 , -0.29208314, -0.00619292,  0.03949022,\n",
              "          0.48701644],\n",
              "        [ 0.3960384 , -0.08286548,  0.04503226,  0.47742593,  0.4580109 ,\n",
              "          0.2637955 ,  0.13449228, -0.10349178,  0.2598641 , -0.30515158,\n",
              "         -0.1470933 , -0.21923435, -0.32743645,  0.20835006, -0.48656893,\n",
              "          0.29009962],\n",
              "        [ 0.03990781, -0.14247477,  0.34646285,  0.08348989, -0.19113278,\n",
              "         -0.24141169,  0.31595588, -0.1950612 ,  0.29548824,  0.4387226 ,\n",
              "          0.1502763 , -0.47816086,  0.4687065 , -0.16931427,  0.45242846,\n",
              "          0.47082627]], dtype=float32),\n",
              " array([0., 0., 0., 0., 0., 0., 0., 0., 0., 0., 0., 0., 0., 0., 0., 0.],\n",
              "       dtype=float32)]"
            ]
          },
          "metadata": {},
          "execution_count": 6
        }
      ]
    },
    {
      "cell_type": "code",
      "source": [
        "from keras.layers import Dropout,Dense"
      ],
      "metadata": {
        "id": "KkKhviu-rCiH"
      },
      "execution_count": null,
      "outputs": []
    },
    {
      "cell_type": "markdown",
      "source": [
        "DROPOUT Layer\n",
        "\n",
        "\n",
        "\n",
        "*   Use to treat the Overfitting case\n",
        "\n"
      ],
      "metadata": {
        "id": "b_JB36UStJNC"
      }
    },
    {
      "cell_type": "code",
      "source": [
        "model = Sequential()\n",
        "model.add(Dense(16,input_shape=(8,)))\n",
        "model.add(Dropout(.2))\n",
        "model.add(Dense(10))\n",
        "model.summary()"
      ],
      "metadata": {
        "colab": {
          "base_uri": "https://localhost:8080/"
        },
        "id": "m6-LCHNDtkeo",
        "outputId": "d737c8f5-c1a6-424c-9911-9d95a38d03e4"
      },
      "execution_count": null,
      "outputs": [
        {
          "output_type": "stream",
          "name": "stdout",
          "text": [
            "Model: \"sequential_2\"\n",
            "_________________________________________________________________\n",
            " Layer (type)                Output Shape              Param #   \n",
            "=================================================================\n",
            " dense_3 (Dense)             (None, 16)                144       \n",
            "                                                                 \n",
            " dropout_1 (Dropout)         (None, 16)                0         \n",
            "                                                                 \n",
            " dense_4 (Dense)             (None, 10)                170       \n",
            "                                                                 \n",
            "=================================================================\n",
            "Total params: 314\n",
            "Trainable params: 314\n",
            "Non-trainable params: 0\n",
            "_________________________________________________________________\n"
          ]
        }
      ]
    },
    {
      "cell_type": "code",
      "source": [
        "from tensorflow.keras.layers import Dense,Flatten"
      ],
      "metadata": {
        "id": "GGxktlNqt8ub"
      },
      "execution_count": null,
      "outputs": []
    },
    {
      "cell_type": "markdown",
      "source": [
        "FLATTEN Layer\n",
        "\n",
        "*   Used to flatten the input data.\n",
        "*   Used when we get multi-dimensional output from the previous layer and want to make it linear to pass it to the dense layer.\n",
        "\n",
        "\n"
      ],
      "metadata": {
        "id": "ZmsrLQ-tv5EL"
      }
    },
    {
      "cell_type": "code",
      "source": [
        "model = Sequential()\n",
        "model.add(Dense(16,input_shape=(8,2)))\n",
        "model.add(Flatten())\n",
        "model.add(Dense(10))\n",
        "model.summary()\n",
        "plot_model(model,to_file='model_plot.png',show_shapes=True,show_layer_names=True)"
      ],
      "metadata": {
        "colab": {
          "base_uri": "https://localhost:8080/",
          "height": 682
        },
        "id": "Uogo3akmxN-C",
        "outputId": "5f6f2753-ea1e-47d2-8f61-78968b4978d5"
      },
      "execution_count": null,
      "outputs": [
        {
          "output_type": "stream",
          "name": "stdout",
          "text": [
            "Model: \"sequential_3\"\n",
            "_________________________________________________________________\n",
            " Layer (type)                Output Shape              Param #   \n",
            "=================================================================\n",
            " dense_5 (Dense)             (None, 8, 16)             48        \n",
            "                                                                 \n",
            " flatten (Flatten)           (None, 128)               0         \n",
            "                                                                 \n",
            " dense_6 (Dense)             (None, 10)                1290      \n",
            "                                                                 \n",
            "=================================================================\n",
            "Total params: 1,338\n",
            "Trainable params: 1,338\n",
            "Non-trainable params: 0\n",
            "_________________________________________________________________\n"
          ]
        },
        {
          "output_type": "execute_result",
          "data": {
            "text/plain": [
              "<IPython.core.display.Image object>"
            ],
            "image/png": "[encoded data removed]"
          },
          "metadata": {},
          "execution_count": 11
        }
      ]
    },
    {
      "cell_type": "code",
      "source": [
        "from tensorflow.keras.layers import Dense,Permute\n",
        "import tensorflow"
      ],
      "metadata": {
        "id": "Mds-wcaMxlxT"
      },
      "execution_count": null,
      "outputs": []
    },
    {
      "cell_type": "markdown",
      "source": [
        "PERMUTE Layer:\n",
        "\n",
        "*   To change the shape of the input of the specific pattern\n",
        "\n",
        "initializer contains the technique which we need to use for inilializing the weights.\n",
        "to define the technique we make use of the argument, kernel_initializer.\n",
        "\n"
      ],
      "metadata": {
        "id": "UrVkaWqxyAMg"
      }
    },
    {
      "cell_type": "code",
      "source": [
        "model = Sequential()\n",
        "initializer = tensorflow.keras.initializers.GlorotUniform() \n",
        "model.add(Dense(16,input_shape=(8,2),kernel_initializer=initializer))\n",
        "model.add(Permute((2,1)))\n",
        "model.summary()\n",
        "plot_model(model,to_file='model_plot.png',show_shapes=True,show_layer_names=True)"
      ],
      "metadata": {
        "colab": {
          "base_uri": "https://localhost:8080/",
          "height": 538
        },
        "id": "dJJdIGZDy3k0",
        "outputId": "5483a49d-9fd3-4023-fa02-03a990a5841f"
      },
      "execution_count": null,
      "outputs": [
        {
          "output_type": "stream",
          "name": "stdout",
          "text": [
            "Model: \"sequential_7\"\n",
            "_________________________________________________________________\n",
            " Layer (type)                Output Shape              Param #   \n",
            "=================================================================\n",
            " dense_10 (Dense)            (None, 8, 16)             48        \n",
            "                                                                 \n",
            " permute (Permute)           (None, 16, 8)             0         \n",
            "                                                                 \n",
            "=================================================================\n",
            "Total params: 48\n",
            "Trainable params: 48\n",
            "Non-trainable params: 0\n",
            "_________________________________________________________________\n"
          ]
        },
        {
          "output_type": "execute_result",
          "data": {
            "text/plain": [
              "<IPython.core.display.Image object>"
            ],
            "image/png": "[encoded data removed]"
          },
          "metadata": {},
          "execution_count": 20
        }
      ]
    },
    {
      "cell_type": "code",
      "source": [
        ""
      ],
      "metadata": {
        "id": "GXPtGQcK4zoZ"
      },
      "execution_count": null,
      "outputs": []
    },
    {
      "cell_type": "code",
      "source": [
        ""
      ],
      "metadata": {
        "id": "hqhOqnkY4zlz"
      },
      "execution_count": null,
      "outputs": []
    },
    {
      "cell_type": "code",
      "source": [
        "?Dense ### To understand the information about the layers, use ? and followed by the layer you need the information for"
      ],
      "metadata": {
        "id": "ATYCKkLcx-V2",
        "outputId": "f9f94d4d-723e-44d9-950c-a7e7561ef591",
        "colab": {
          "base_uri": "https://localhost:8080/"
        }
      },
      "execution_count": null,
      "outputs": [
        {
          "output_type": "stream",
          "name": "stdout",
          "text": [
            "Object `Dense` not found.\n"
          ]
        }
      ]
    },
    {
      "cell_type": "markdown",
      "source": [
        "**INITIALIZERS**\n",
        "\n",
        "\n",
        "\n",
        "*   For the Dense Layer, we need to initilaize Weight Vector and Bias vector.\n",
        "*   Keras offers n number of built-in Iniliatilzers.\n",
        "https://keras.io/api/layers/initializers/#usage-of-initializers\n",
        "\n",
        "\n",
        "\n"
      ],
      "metadata": {
        "id": "hhPbwFMGAkOI"
      }
    },
    {
      "cell_type": "code",
      "source": [
        "from keras import backend as k\n",
        "from keras.models import Sequential\n",
        "from keras.layers import Dense\n",
        "from keras.initializers import Constant\n",
        "import numpy as np"
      ],
      "metadata": {
        "id": "A-zrthSyCBQx"
      },
      "execution_count": null,
      "outputs": []
    },
    {
      "cell_type": "code",
      "source": [
        "initializers = ['zeros','ones',Constant(value=5),'RandomNormal','RandomUniform','TruncatedNormal','VarianceScaling','glorot_normal','glorot_uniform','he_normal','he_uniform']"
      ],
      "metadata": {
        "id": "3zYXrC-aynDC"
      },
      "execution_count": null,
      "outputs": []
    },
    {
      "cell_type": "code",
      "source": [
        "np.random.seed(1)\n",
        "\n",
        "for init in initializers:\n",
        "  print(\"Initializer=\",init)\n",
        "  model=Sequential([Dense(5,input_dim=2,kernel_initializer=init)])\n",
        "\n",
        "  for layer in model.layers:\n",
        "    weights=layer.get_weights()\n",
        "    print(weights)\n",
        "\n",
        "  print('\"\"\"\"\"\"\"\"\"\"\"\"\"\"\"\"\"\"\"\"\"\"\"\"\"\"\"\"\"\"\"\"\"\"\"\"\"\"\"\"\"\"\"\"\"\"\"\"\"\"\"\"\"\"\"\"\"\"\"\"\"\"\"\"\"\"\"\"\"\"\"\"\"\"\"\"\"\"\"\"\"\"\"\"\"\"\"\"\"\"\"\"')\n"
      ],
      "metadata": {
        "colab": {
          "base_uri": "https://localhost:8080/"
        },
        "id": "ombnJiLEB_yL",
        "outputId": "8e25e1ec-2908-4c5d-a971-f820aa403bcb"
      },
      "execution_count": null,
      "outputs": [
        {
          "output_type": "stream",
          "name": "stdout",
          "text": [
            "Initializer= zeros\n",
            "[array([[0., 0., 0., 0., 0.],\n",
            "       [0., 0., 0., 0., 0.]], dtype=float32), array([0., 0., 0., 0., 0.], dtype=float32)]\n",
            "\"\"\"\"\"\"\"\"\"\"\"\"\"\"\"\"\"\"\"\"\"\"\"\"\"\"\"\"\"\"\"\"\"\"\"\"\"\"\"\"\"\"\"\"\"\"\"\"\"\"\"\"\"\"\"\"\"\"\"\"\"\"\"\"\"\"\"\"\"\"\"\"\"\"\"\"\"\"\"\"\"\"\"\"\"\"\"\"\"\"\"\"\n",
            "Initializer= ones\n",
            "[array([[1., 1., 1., 1., 1.],\n",
            "       [1., 1., 1., 1., 1.]], dtype=float32), array([0., 0., 0., 0., 0.], dtype=float32)]\n",
            "\"\"\"\"\"\"\"\"\"\"\"\"\"\"\"\"\"\"\"\"\"\"\"\"\"\"\"\"\"\"\"\"\"\"\"\"\"\"\"\"\"\"\"\"\"\"\"\"\"\"\"\"\"\"\"\"\"\"\"\"\"\"\"\"\"\"\"\"\"\"\"\"\"\"\"\"\"\"\"\"\"\"\"\"\"\"\"\"\"\"\"\"\n",
            "Initializer= <keras.initializers.initializers_v2.Constant object at 0x7f51129a4050>\n",
            "[array([[5., 5., 5., 5., 5.],\n",
            "       [5., 5., 5., 5., 5.]], dtype=float32), array([0., 0., 0., 0., 0.], dtype=float32)]\n",
            "\"\"\"\"\"\"\"\"\"\"\"\"\"\"\"\"\"\"\"\"\"\"\"\"\"\"\"\"\"\"\"\"\"\"\"\"\"\"\"\"\"\"\"\"\"\"\"\"\"\"\"\"\"\"\"\"\"\"\"\"\"\"\"\"\"\"\"\"\"\"\"\"\"\"\"\"\"\"\"\"\"\"\"\"\"\"\"\"\"\"\"\"\n",
            "Initializer= RandomNormal\n",
            "[array([[-0.03006626, -0.08632637, -0.01010895,  0.0229335 ,  0.03506121],\n",
            "       [-0.03831423, -0.00940044,  0.01141829,  0.01568226,  0.0463631 ]],\n",
            "      dtype=float32), array([0., 0., 0., 0., 0.], dtype=float32)]\n",
            "\"\"\"\"\"\"\"\"\"\"\"\"\"\"\"\"\"\"\"\"\"\"\"\"\"\"\"\"\"\"\"\"\"\"\"\"\"\"\"\"\"\"\"\"\"\"\"\"\"\"\"\"\"\"\"\"\"\"\"\"\"\"\"\"\"\"\"\"\"\"\"\"\"\"\"\"\"\"\"\"\"\"\"\"\"\"\"\"\"\"\"\"\n",
            "Initializer= RandomUniform\n",
            "[array([[-0.01343049,  0.0084563 , -0.03222211, -0.02833787, -0.01842188],\n",
            "       [-0.02175057,  0.04207562,  0.04216483,  0.04550792,  0.0047771 ]],\n",
            "      dtype=float32), array([0., 0., 0., 0., 0.], dtype=float32)]\n",
            "\"\"\"\"\"\"\"\"\"\"\"\"\"\"\"\"\"\"\"\"\"\"\"\"\"\"\"\"\"\"\"\"\"\"\"\"\"\"\"\"\"\"\"\"\"\"\"\"\"\"\"\"\"\"\"\"\"\"\"\"\"\"\"\"\"\"\"\"\"\"\"\"\"\"\"\"\"\"\"\"\"\"\"\"\"\"\"\"\"\"\"\"\n",
            "Initializer= TruncatedNormal\n",
            "[array([[-0.01926544, -0.01519529, -0.04212932, -0.01446662, -0.03124848],\n",
            "       [ 0.0709801 ,  0.04068768, -0.00262659,  0.08739744, -0.0128912 ]],\n",
            "      dtype=float32), array([0., 0., 0., 0., 0.], dtype=float32)]\n",
            "\"\"\"\"\"\"\"\"\"\"\"\"\"\"\"\"\"\"\"\"\"\"\"\"\"\"\"\"\"\"\"\"\"\"\"\"\"\"\"\"\"\"\"\"\"\"\"\"\"\"\"\"\"\"\"\"\"\"\"\"\"\"\"\"\"\"\"\"\"\"\"\"\"\"\"\"\"\"\"\"\"\"\"\"\"\"\"\"\"\"\"\"\n",
            "Initializer= VarianceScaling\n",
            "[array([[-0.83482134,  0.1445744 ,  0.9833535 , -0.09977766,  1.3787458 ],\n",
            "       [ 0.80423236,  0.72054756,  0.3136723 ,  1.0041113 ,  0.5388796 ]],\n",
            "      dtype=float32), array([0., 0., 0., 0., 0.], dtype=float32)]\n",
            "\"\"\"\"\"\"\"\"\"\"\"\"\"\"\"\"\"\"\"\"\"\"\"\"\"\"\"\"\"\"\"\"\"\"\"\"\"\"\"\"\"\"\"\"\"\"\"\"\"\"\"\"\"\"\"\"\"\"\"\"\"\"\"\"\"\"\"\"\"\"\"\"\"\"\"\"\"\"\"\"\"\"\"\"\"\"\"\"\"\"\"\"\n",
            "Initializer= glorot_normal\n",
            "[array([[-0.49423173,  0.45870066, -0.29366437, -1.0228254 ,  0.3563065 ],\n",
            "       [ 0.19834386, -0.87711346,  1.0767412 , -0.23053661,  0.98345786]],\n",
            "      dtype=float32), array([0., 0., 0., 0., 0.], dtype=float32)]\n",
            "\"\"\"\"\"\"\"\"\"\"\"\"\"\"\"\"\"\"\"\"\"\"\"\"\"\"\"\"\"\"\"\"\"\"\"\"\"\"\"\"\"\"\"\"\"\"\"\"\"\"\"\"\"\"\"\"\"\"\"\"\"\"\"\"\"\"\"\"\"\"\"\"\"\"\"\"\"\"\"\"\"\"\"\"\"\"\"\"\"\"\"\"\n",
            "Initializer= glorot_uniform\n",
            "[array([[-0.5606247 , -0.91398776,  0.912902  ,  0.64384115,  0.24265659],\n",
            "       [ 0.26659083,  0.3405224 , -0.5605167 ,  0.18562472,  0.11343122]],\n",
            "      dtype=float32), array([0., 0., 0., 0., 0.], dtype=float32)]\n",
            "\"\"\"\"\"\"\"\"\"\"\"\"\"\"\"\"\"\"\"\"\"\"\"\"\"\"\"\"\"\"\"\"\"\"\"\"\"\"\"\"\"\"\"\"\"\"\"\"\"\"\"\"\"\"\"\"\"\"\"\"\"\"\"\"\"\"\"\"\"\"\"\"\"\"\"\"\"\"\"\"\"\"\"\"\"\"\"\"\"\"\"\"\n",
            "Initializer= he_normal\n",
            "[array([[-1.5905865 , -2.005953  , -0.48653513, -0.55914557,  0.30405188],\n",
            "       [-0.4283702 , -0.14756358,  0.5094402 ,  0.763989  ,  0.08362261]],\n",
            "      dtype=float32), array([0., 0., 0., 0., 0.], dtype=float32)]\n",
            "\"\"\"\"\"\"\"\"\"\"\"\"\"\"\"\"\"\"\"\"\"\"\"\"\"\"\"\"\"\"\"\"\"\"\"\"\"\"\"\"\"\"\"\"\"\"\"\"\"\"\"\"\"\"\"\"\"\"\"\"\"\"\"\"\"\"\"\"\"\"\"\"\"\"\"\"\"\"\"\"\"\"\"\"\"\"\"\"\"\"\"\"\n",
            "Initializer= he_uniform\n",
            "[array([[ 0.82281387, -0.9017851 , -0.52693105,  1.5945572 ,  0.15454519],\n",
            "       [-0.93726104, -0.01010704,  1.1166304 ,  1.5386037 ,  0.3930179 ]],\n",
            "      dtype=float32), array([0., 0., 0., 0., 0.], dtype=float32)]\n",
            "\"\"\"\"\"\"\"\"\"\"\"\"\"\"\"\"\"\"\"\"\"\"\"\"\"\"\"\"\"\"\"\"\"\"\"\"\"\"\"\"\"\"\"\"\"\"\"\"\"\"\"\"\"\"\"\"\"\"\"\"\"\"\"\"\"\"\"\"\"\"\"\"\"\"\"\"\"\"\"\"\"\"\"\"\"\"\"\"\"\"\"\"\n"
          ]
        }
      ]
    },
    {
      "cell_type": "markdown",
      "source": [
        "In the above case, we didnt initialized the bias,Therefore the bias vector will always be zero"
      ],
      "metadata": {
        "id": "OK1qtowRDzxv"
      }
    },
    {
      "cell_type": "code",
      "source": [
        ""
      ],
      "metadata": {
        "id": "d32LP-kzDVy5"
      },
      "execution_count": null,
      "outputs": []
    }
  ]
}